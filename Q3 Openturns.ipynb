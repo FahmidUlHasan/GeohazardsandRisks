{
 "cells": [
  {
   "cell_type": "code",
   "execution_count": 77,
   "id": "dc21e690",
   "metadata": {},
   "outputs": [],
   "source": [
    "#Packages\n",
    "import math as ma\n",
    "from math import sin\n",
    "import numpy as np\n",
    "import pandas as pd\n",
    "import scipy.stats as ss\n",
    "import matplotlib.pyplot as plt\n",
    "import openturns as ot\n",
    "from openturns.viewer import View\n"
   ]
  },
  {
   "cell_type": "code",
   "execution_count": 78,
   "id": "8a553d00",
   "metadata": {},
   "outputs": [],
   "source": [
    "data = pd.read_csv('data.txt', sep='\\t')\n"
   ]
  },
  {
   "cell_type": "code",
   "execution_count": 79,
   "metadata": {},
   "outputs": [
    {
     "data": {
      "text/html": [
       "<div>\n",
       "<style scoped>\n",
       "    .dataframe tbody tr th:only-of-type {\n",
       "        vertical-align: middle;\n",
       "    }\n",
       "\n",
       "    .dataframe tbody tr th {\n",
       "        vertical-align: top;\n",
       "    }\n",
       "\n",
       "    .dataframe thead th {\n",
       "        text-align: right;\n",
       "    }\n",
       "</style>\n",
       "<table border=\"1\" class=\"dataframe\">\n",
       "  <thead>\n",
       "    <tr style=\"text-align: right;\">\n",
       "      <th></th>\n",
       "      <th>mean</th>\n",
       "      <th>std</th>\n",
       "    </tr>\n",
       "  </thead>\n",
       "  <tbody>\n",
       "    <tr>\n",
       "      <th>zone1</th>\n",
       "      <td>46.857143</td>\n",
       "      <td>8.468764</td>\n",
       "    </tr>\n",
       "    <tr>\n",
       "      <th>zone2</th>\n",
       "      <td>56.239161</td>\n",
       "      <td>7.557970</td>\n",
       "    </tr>\n",
       "    <tr>\n",
       "      <th>zone3</th>\n",
       "      <td>44.597203</td>\n",
       "      <td>9.732100</td>\n",
       "    </tr>\n",
       "    <tr>\n",
       "      <th>zone4</th>\n",
       "      <td>51.547153</td>\n",
       "      <td>5.190861</td>\n",
       "    </tr>\n",
       "    <tr>\n",
       "      <th>zone5</th>\n",
       "      <td>37.073526</td>\n",
       "      <td>6.058854</td>\n",
       "    </tr>\n",
       "    <tr>\n",
       "      <th>zone6</th>\n",
       "      <td>49.830569</td>\n",
       "      <td>9.153118</td>\n",
       "    </tr>\n",
       "    <tr>\n",
       "      <th>zone7</th>\n",
       "      <td>54.009690</td>\n",
       "      <td>11.091138</td>\n",
       "    </tr>\n",
       "  </tbody>\n",
       "</table>\n",
       "</div>"
      ],
      "text/plain": [
       "            mean        std\n",
       "zone1  46.857143   8.468764\n",
       "zone2  56.239161   7.557970\n",
       "zone3  44.597203   9.732100\n",
       "zone4  51.547153   5.190861\n",
       "zone5  37.073526   6.058854\n",
       "zone6  49.830569   9.153118\n",
       "zone7  54.009690  11.091138"
      ]
     },
     "execution_count": 79,
     "metadata": {},
     "output_type": "execute_result"
    }
   ],
   "source": [
    "#Define the parameter\n",
    "#param(mean,stdv) Su, gamm excluded\n",
    "# Su=[[mean],[std]], same for gamma\n",
    "Su=[[],[]]\n",
    "gamma=[[],[]]\n",
    "\n",
    "for i in range(1,8):\n",
    "    Su[0].append(data[5:].mean()[\"zone\"+str(i)])\n",
    "    Su[1].append(data[5:].std()[\"zone\"+str(i)])\n",
    "    gamma[0].append(data[:5].mean()[\"zone\"+str(i)])\n",
    "    gamma[1].append(data[:5].std()[\"zone\"+str(i)])\n",
    "e=[1,0.1]\n",
    "a=[ma.radians(60),ma.radians(9)]\n",
    "R=[8,1.6]\n",
    "eta=[0.1,0.01]\n",
    "q=[10,2]\n",
    "Su={\n",
    "    'mean' : Su[0],\n",
    "    'std' : Su[1],\n",
    "}\n",
    "\n",
    "gamma={\n",
    "    'mean' : gamma[0],\n",
    "    'std' : gamma[1],\n",
    "}\n",
    "\n",
    "pd.DataFrame(Su, index = ['zone1','zone2','zone3','zone4','zone5','zone6','zone7'])\n",
    "\n",
    "\n",
    "#get mean : print(Su['zone1'][0])\n"
   ]
  },
  {
   "cell_type": "code",
   "execution_count": 80,
   "metadata": {},
   "outputs": [
    {
     "data": {
      "text/html": [
       "<div>\n",
       "<style scoped>\n",
       "    .dataframe tbody tr th:only-of-type {\n",
       "        vertical-align: middle;\n",
       "    }\n",
       "\n",
       "    .dataframe tbody tr th {\n",
       "        vertical-align: top;\n",
       "    }\n",
       "\n",
       "    .dataframe thead th {\n",
       "        text-align: right;\n",
       "    }\n",
       "</style>\n",
       "<table border=\"1\" class=\"dataframe\">\n",
       "  <thead>\n",
       "    <tr style=\"text-align: right;\">\n",
       "      <th></th>\n",
       "      <th>mean</th>\n",
       "      <th>std</th>\n",
       "    </tr>\n",
       "  </thead>\n",
       "  <tbody>\n",
       "    <tr>\n",
       "      <th>zone1</th>\n",
       "      <td>18.40</td>\n",
       "      <td>1.019804</td>\n",
       "    </tr>\n",
       "    <tr>\n",
       "      <th>zone2</th>\n",
       "      <td>18.34</td>\n",
       "      <td>2.039117</td>\n",
       "    </tr>\n",
       "    <tr>\n",
       "      <th>zone3</th>\n",
       "      <td>17.30</td>\n",
       "      <td>2.732215</td>\n",
       "    </tr>\n",
       "    <tr>\n",
       "      <th>zone4</th>\n",
       "      <td>18.78</td>\n",
       "      <td>1.976613</td>\n",
       "    </tr>\n",
       "    <tr>\n",
       "      <th>zone5</th>\n",
       "      <td>18.72</td>\n",
       "      <td>1.395349</td>\n",
       "    </tr>\n",
       "    <tr>\n",
       "      <th>zone6</th>\n",
       "      <td>19.64</td>\n",
       "      <td>2.169793</td>\n",
       "    </tr>\n",
       "    <tr>\n",
       "      <th>zone7</th>\n",
       "      <td>16.88</td>\n",
       "      <td>2.591718</td>\n",
       "    </tr>\n",
       "  </tbody>\n",
       "</table>\n",
       "</div>"
      ],
      "text/plain": [
       "        mean       std\n",
       "zone1  18.40  1.019804\n",
       "zone2  18.34  2.039117\n",
       "zone3  17.30  2.732215\n",
       "zone4  18.78  1.976613\n",
       "zone5  18.72  1.395349\n",
       "zone6  19.64  2.169793\n",
       "zone7  16.88  2.591718"
      ]
     },
     "execution_count": 80,
     "metadata": {},
     "output_type": "execute_result"
    }
   ],
   "source": [
    "pd.DataFrame(gamma, index = ['zone1','zone2','zone3','zone4','zone5','zone6','zone7'])\n"
   ]
  },
  {
   "cell_type": "code",
   "execution_count": 81,
   "metadata": {},
   "outputs": [],
   "source": [
    "dist_e=ot.Normal(1,0.1)\n",
    "dist_e.setDescription('e')\n",
    "\n",
    "dist_a=ot.Normal(ma.radians(60),ma.radians(9))\n",
    "dist_a.setDescription('a')\n",
    "\n",
    "dist_R=ot.Normal(8,1.6)\n",
    "dist_R.setDescription('R')\n",
    "\n",
    "dist_q=ot.Normal(10,2)\n",
    "dist_q.setDescription('q')\n",
    "\n",
    "dist_eta=ot.Normal(0.1,0.01)\n",
    "dist_eta.setDescription('n')\n",
    "\n",
    "dist_Su=[]\n",
    "dist_gamma=[]\n",
    "for i in range (7):\n",
    "    dist_Su.append(ot.Normal(Su['mean'][i],Su['std'][i]))\n",
    "    dist_Su[i].setDescription('S')\n",
    "    dist_gamma.append(ot.Normal(gamma['mean'][i],gamma['std'][i]))\n",
    "    dist_gamma[i].setDescription('g')\n",
    "\n"
   ]
  },
  {
   "cell_type": "code",
   "execution_count": 82,
   "metadata": {},
   "outputs": [],
   "source": [
    "marginals=[]\n",
    "distributions=[]\n",
    "for i in range (7):\n",
    "    marginals.append([dist_e,dist_a, dist_R,dist_q,dist_eta,dist_Su[i],dist_gamma[i]])\n",
    "    distributions.append(ot.ComposedDistribution(marginals[i]))\n",
    "    distributions[i].setDescription(['e','a','R','q','n','S','g'])\n",
    "\n",
    "model = ot.SymbolicFunction(['e','a','R','q','n','S','g'], ['e*S*a/(0.25*g*R*(a-sin(a))*sin(a)+n*q*sin(a))'])\n"
   ]
  },
  {
   "cell_type": "code",
   "execution_count": 83,
   "metadata": {},
   "outputs": [],
   "source": [
    "vect=[]\n",
    "G=[]\n",
    "event=[]\n",
    "for i in range (7):\n",
    "    vect.append(ot.RandomVector(distributions[i]))\n",
    "    G.append(ot.CompositeRandomVector(model, vect[i]))\n",
    "    event.append(ot.ThresholdEvent(G[i], ot.Greater(), 1))\n",
    "    event[i].setName(\"performance function g\")\n"
   ]
  },
  {
   "cell_type": "code",
   "execution_count": 89,
   "metadata": {},
   "outputs": [
    {
     "name": "stdout",
     "output_type": "stream",
     "text": [
      "Failure probability zone 1 : 3.3487571059476196e-06\n",
      "Failure probability zone 2 : 2.1891336521306926e-09\n",
      "Failure probability zone 3 : 7.231280111108518e-05\n",
      "Failure probability zone 4 : 2.268807364202985e-10\n",
      "Failure probability zone 5 : 5.6808530012331104e-06\n",
      "Failure probability zone 6 : 5.026415411779617e-06\n",
      "Failure probability zone 7 : 1.2850314349610592e-05\n"
     ]
    }
   ],
   "source": [
    "optimAlgo = ot.Cobyla()\n",
    "optimAlgo.setMaximumEvaluationNumber(50000)\n",
    "#optimAlgo.setMaximumAbsoluteError(0.001)\n",
    "#optimAlgo.setMaximumRelativeError(0.001)\n",
    "#optimAlgo.setMaximumResidualError(0.001)\n",
    "#optimAlgo.setMaximumConstraintError(0.001)\n",
    "algo=[]\n",
    "results=[]\n",
    "pf_Form=[]\n",
    "for i in range (7):\n",
    "    algo.append(ot.FORM(optimAlgo, event[i], distributions[i].getMean()))\n",
    "    algo[i].run()\n",
    "    results.append(algo[i].getResult())\n",
    "    pf_Form.append(results[i].getEventProbability())\n",
    "    print('Failure probability zone', str(i+1), ':' ,1-pf_Form[i])\n",
    "\n"
   ]
  },
  {
   "cell_type": "code",
   "execution_count": 92,
   "metadata": {},
   "outputs": [
    {
     "name": "stdout",
     "output_type": "stream",
     "text": [
      "Failure probability zone 1 : 3.348641976930189e-06\n",
      "Failure probability zone 2 : 2.1889894341597937e-09\n",
      "Failure probability zone 3 : 7.230836408422814e-05\n",
      "Failure probability zone 4 : 2.2685564537994196e-10\n",
      "Failure probability zone 5 : 5.680392882734253e-06\n",
      "Failure probability zone 6 : 5.0258264511215955e-06\n",
      "Failure probability zone 7 : 1.2849330184416807e-05\n"
     ]
    }
   ],
   "source": [
    "optimAlgo = ot.Cobyla()\n",
    "#optimAlgo.setMaximumEvaluationNumber(50000)\n",
    "optimAlgo.setMaximumAbsoluteError(0.01)\n",
    "#optimAlgo.setMaximumRelativeError(0.001)\n",
    "#optimAlgo.setMaximumResidualError(0.001)\n",
    "#optimAlgo.setMaximumConstraintError(0.001)\n",
    "algo=[]\n",
    "results=[]\n",
    "pf_Form=[]\n",
    "for i in range (7):\n",
    "    algo.append(ot.FORM(optimAlgo, event[i], distributions[i].getMean()))\n",
    "    algo[i].run()\n",
    "    results.append(algo[i].getResult())\n",
    "    pf_Form.append(results[i].getEventProbability())\n",
    "    print('Failure probability zone', str(i+1), ':' ,1-pf_Form[i])\n"
   ]
  }
 ],
 "metadata": {
  "kernelspec": {
   "display_name": "Python 3 (ipykernel)",
   "language": "python",
   "name": "python3"
  },
  "language_info": {
   "codemirror_mode": {
    "name": "ipython",
    "version": 3
   },
   "file_extension": ".py",
   "mimetype": "text/x-python",
   "name": "python",
   "nbconvert_exporter": "python",
   "pygments_lexer": "ipython3",
   "version": "3.11.5"
  }
 },
 "nbformat": 4,
 "nbformat_minor": 5
}
