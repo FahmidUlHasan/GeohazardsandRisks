{
 "cells": [
  {
   "cell_type": "code",
   "execution_count": 22,
   "metadata": {},
   "outputs": [],
   "source": [
    "#Packages\n",
    "import math as ma\n",
    "import numpy as np\n",
    "import pandas as pd\n",
    "import operator\n"
   ]
  },
  {
   "cell_type": "code",
   "execution_count": 23,
   "metadata": {},
   "outputs": [],
   "source": [
    "#Define the routes\n",
    "\n",
    "R1=[1,2,3,7]\n",
    "R2=[1,6,7]\n",
    "R3=[4,5,7]\n",
    "Routes=[R1,R2,R3]\n"
   ]
  },
  {
   "cell_type": "code",
   "execution_count": 24,
   "metadata": {},
   "outputs": [
    {
     "name": "stdout",
     "output_type": "stream",
     "text": [
      "[0.08364275214613603, 0.06405094832280656, 0.059841345245489785]\n"
     ]
    }
   ],
   "source": [
    "pfZ_FOSM=[0.01992417277867474, 0.015493000489565988, 0.028250825674666726, 0.014705955437358123, 0.023655379696662756, 0.022851931654395814, 0.0226904267029535]\n",
    "R_FOSM=[[],[],[]]\n",
    "pfR_FOSM=[]\n",
    "\n",
    "for i in range (3):\n",
    "    for r in Routes[i]:\n",
    "        R_FOSM[i].append(pfZ_FOSM[r-1])\n",
    "\n",
    "\n",
    "for R in R_FOSM:\n",
    "    accumulation = 1\n",
    "    for number in R: \n",
    "        accumulation *= 1-number\n",
    "    pfR_FOSM.append(1-accumulation)\n",
    "\n",
    "print(pfR_FOSM)\n",
    "\n"
   ]
  },
  {
   "cell_type": "code",
   "execution_count": 25,
   "metadata": {},
   "outputs": [
    {
     "name": "stdout",
     "output_type": "stream",
     "text": [
      "[8.85073107677048e-05, 2.122367417667359e-05, 1.8529876929296307e-05]\n"
     ]
    }
   ],
   "source": [
    "pfZ_FORM=[3.348641976930189e-06, 2.1889894341597937e-09, 7.230836408422814e-05, 2.2685564537994196e-10, 5.680392882734253e-06, 5.0258264511215955e-06, 1.2849330184416807e-05]\n",
    "\n",
    "R_FORM=[[],[],[]]\n",
    "pfR_FORM=[]\n",
    "\n",
    "for i in range (3):\n",
    "    for r in Routes[i]:\n",
    "        R_FORM[i].append(pfZ_FORM[r-1])\n",
    "\n",
    "\n",
    "for R in R_FORM:\n",
    "    accumulation = 1\n",
    "    for number in R: \n",
    "        accumulation *= 1-number\n",
    "    pfR_FORM.append(1-accumulation)\n",
    "\n",
    "print(pfR_FORM)\n",
    "\n"
   ]
  },
  {
   "cell_type": "code",
   "execution_count": 26,
   "metadata": {},
   "outputs": [
    {
     "name": "stdout",
     "output_type": "stream",
     "text": [
      "[9.839854200532905e-05, 2.2939854251058378e-05, 1.993991549864571e-05]\n"
     ]
    }
   ],
   "source": [
    "pfZ_MC=[3.56e-06, 0, 8.101e-05, 0, 6.11e-06, 5.55e-06, 1.383e-05]\n",
    "R_MC=[[],[],[]]\n",
    "pfR_MC=[]\n",
    "\n",
    "for i in range (3):\n",
    "    for r in Routes[i]:\n",
    "        R_MC[i].append(pfZ_MC[r-1])\n",
    "\n",
    "for R in R_MC:\n",
    "    accumulation = 1\n",
    "    for number in R: \n",
    "        accumulation *= 1-number\n",
    "    pfR_MC.append(1-accumulation)\n",
    "\n",
    "print(pfR_MC)\n"
   ]
  },
  {
   "cell_type": "code",
   "execution_count": 27,
   "metadata": {},
   "outputs": [
    {
     "data": {
      "text/html": [
       "<div>\n",
       "<style scoped>\n",
       "    .dataframe tbody tr th:only-of-type {\n",
       "        vertical-align: middle;\n",
       "    }\n",
       "\n",
       "    .dataframe tbody tr th {\n",
       "        vertical-align: top;\n",
       "    }\n",
       "\n",
       "    .dataframe thead th {\n",
       "        text-align: right;\n",
       "    }\n",
       "</style>\n",
       "<table border=\"1\" class=\"dataframe\">\n",
       "  <thead>\n",
       "    <tr style=\"text-align: right;\">\n",
       "      <th></th>\n",
       "      <th>FOSM</th>\n",
       "      <th>FORM</th>\n",
       "      <th>MC</th>\n",
       "    </tr>\n",
       "  </thead>\n",
       "  <tbody>\n",
       "    <tr>\n",
       "      <th>Route 1</th>\n",
       "      <td>0.083643</td>\n",
       "      <td>0.000089</td>\n",
       "      <td>0.000098</td>\n",
       "    </tr>\n",
       "    <tr>\n",
       "      <th>Route 2</th>\n",
       "      <td>0.064051</td>\n",
       "      <td>0.000021</td>\n",
       "      <td>0.000023</td>\n",
       "    </tr>\n",
       "    <tr>\n",
       "      <th>Route 3</th>\n",
       "      <td>0.059841</td>\n",
       "      <td>0.000019</td>\n",
       "      <td>0.000020</td>\n",
       "    </tr>\n",
       "  </tbody>\n",
       "</table>\n",
       "</div>"
      ],
      "text/plain": [
       "             FOSM      FORM        MC\n",
       "Route 1  0.083643  0.000089  0.000098\n",
       "Route 2  0.064051  0.000021  0.000023\n",
       "Route 3  0.059841  0.000019  0.000020"
      ]
     },
     "execution_count": 27,
     "metadata": {},
     "output_type": "execute_result"
    }
   ],
   "source": [
    "\n",
    "pfR={\n",
    "    'FOSM' : pfR_FOSM,\n",
    "    'FORM' : pfR_FORM,\n",
    "    'MC'   : pfR_MC\n",
    "}\n",
    "pd.DataFrame(pfR, index=['Route 1','Route 2','Route 3'])"
   ]
  },
  {
   "cell_type": "code",
   "execution_count": 28,
   "metadata": {},
   "outputs": [
    {
     "data": {
      "text/html": [
       "<div>\n",
       "<style scoped>\n",
       "    .dataframe tbody tr th:only-of-type {\n",
       "        vertical-align: middle;\n",
       "    }\n",
       "\n",
       "    .dataframe tbody tr th {\n",
       "        vertical-align: top;\n",
       "    }\n",
       "\n",
       "    .dataframe thead th {\n",
       "        text-align: right;\n",
       "    }\n",
       "</style>\n",
       "<table border=\"1\" class=\"dataframe\">\n",
       "  <thead>\n",
       "    <tr style=\"text-align: right;\">\n",
       "      <th></th>\n",
       "      <th>FOSM</th>\n",
       "      <th>FORM</th>\n",
       "      <th>MC</th>\n",
       "    </tr>\n",
       "  </thead>\n",
       "  <tbody>\n",
       "    <tr>\n",
       "      <th>Route 1</th>\n",
       "      <td>4963.923847</td>\n",
       "      <td>4082.292675</td>\n",
       "      <td>3892.860536</td>\n",
       "    </tr>\n",
       "    <tr>\n",
       "      <th>Route 2</th>\n",
       "      <td>1203.982829</td>\n",
       "      <td>1200.955065</td>\n",
       "      <td>1200.833844</td>\n",
       "    </tr>\n",
       "    <tr>\n",
       "      <th>Route 3</th>\n",
       "      <td>1204.427934</td>\n",
       "      <td>1201.032293</td>\n",
       "      <td>1200.897296</td>\n",
       "    </tr>\n",
       "  </tbody>\n",
       "</table>\n",
       "</div>"
      ],
      "text/plain": [
       "                FOSM         FORM           MC\n",
       "Route 1  4963.923847  4082.292675  3892.860536\n",
       "Route 2  1203.982829  1200.955065  1200.833844\n",
       "Route 3  1204.427934  1201.032293  1200.897296"
      ]
     },
     "execution_count": 28,
     "metadata": {},
     "output_type": "execute_result"
    }
   ],
   "source": [
    "Plane1=20000\n",
    "park=5000\n",
    "C0=1200\n",
    "Plane2=40000\n",
    "E_plane=[Plane1+park+C0,Plane1+park+C0,Plane1+park+C0]\n",
    "Outcome1=Plane1+park+C0\n",
    "Outcome2=C0\n",
    "Outcome3=Plane2+park+C0\n",
    "E_R1, E_R2, E_R3=[],[],[]\n",
    "E_R1=[Outcome2*(1-pfR_FOSM[0])+Outcome3*pfR_FOSM[0],Outcome2*(1-pfR_FORM[0])+Outcome3*pfR_FORM[0],Outcome2*(1-pfR_MC[0])+Outcome3*pfR_MC[0]]\n",
    "E_R2=[Outcome2*(1-pfR_FOSM[1])+Outcome3*pfR_FOSM[1],Outcome2*(1-pfR_FORM[1])+Outcome3*pfR_FORM[1],Outcome2*(1-pfR_MC[1])+Outcome3*pfR_MC[1]]\n",
    "E_R3=[Outcome2*(1-pfR_FOSM[2])+Outcome3*pfR_FOSM[2],Outcome2*(1-pfR_FORM[2])+Outcome3*pfR_FORM[2],Outcome2*(1-pfR_MC[2])+Outcome3*pfR_MC[2]]\n",
    "\n",
    "E={\n",
    "    'FOSM' : E_R1,\n",
    "    'FORM' : E_R2,\n",
    "    'MC'   : E_R3\n",
    "}\n",
    "pd.DataFrame(E, index=['Route 1','Route 2','Route 3'])"
   ]
  },
  {
   "cell_type": "code",
   "execution_count": 31,
   "metadata": {},
   "outputs": [
    {
     "data": {
      "text/html": [
       "<div>\n",
       "<style scoped>\n",
       "    .dataframe tbody tr th:only-of-type {\n",
       "        vertical-align: middle;\n",
       "    }\n",
       "\n",
       "    .dataframe tbody tr th {\n",
       "        vertical-align: top;\n",
       "    }\n",
       "\n",
       "    .dataframe thead th {\n",
       "        text-align: right;\n",
       "    }\n",
       "</style>\n",
       "<table border=\"1\" class=\"dataframe\">\n",
       "  <thead>\n",
       "    <tr style=\"text-align: right;\">\n",
       "      <th></th>\n",
       "      <th>Plane</th>\n",
       "      <th>Route I</th>\n",
       "      <th>Route II</th>\n",
       "      <th>Route III</th>\n",
       "    </tr>\n",
       "  </thead>\n",
       "  <tbody>\n",
       "    <tr>\n",
       "      <th>FOSM</th>\n",
       "      <td>26200</td>\n",
       "      <td>4963.923847</td>\n",
       "      <td>4082.292675</td>\n",
       "      <td>3892.860536</td>\n",
       "    </tr>\n",
       "    <tr>\n",
       "      <th>FORM</th>\n",
       "      <td>26200</td>\n",
       "      <td>1203.982829</td>\n",
       "      <td>1200.955065</td>\n",
       "      <td>1200.833844</td>\n",
       "    </tr>\n",
       "    <tr>\n",
       "      <th>MC</th>\n",
       "      <td>26200</td>\n",
       "      <td>1204.427934</td>\n",
       "      <td>1201.032293</td>\n",
       "      <td>1200.897296</td>\n",
       "    </tr>\n",
       "  </tbody>\n",
       "</table>\n",
       "</div>"
      ],
      "text/plain": [
       "      Plane      Route I     Route II    Route III\n",
       "FOSM  26200  4963.923847  4082.292675  3892.860536\n",
       "FORM  26200  1203.982829  1200.955065  1200.833844\n",
       "MC    26200  1204.427934  1201.032293  1200.897296"
      ]
     },
     "execution_count": 31,
     "metadata": {},
     "output_type": "execute_result"
    }
   ],
   "source": [
    "Expectation={\n",
    "    'Plane': E_plane,\n",
    "    'Route I': E_R1,\n",
    "    'Route II': E_R2,\n",
    "    'Route III': E_R3,\n",
    "}\n",
    "pd.DataFrame(Expectation, index=['FOSM','FORM', 'MC'])"
   ]
  }
 ],
 "metadata": {
  "kernelspec": {
   "display_name": "base",
   "language": "python",
   "name": "python3"
  },
  "language_info": {
   "codemirror_mode": {
    "name": "ipython",
    "version": 3
   },
   "file_extension": ".py",
   "mimetype": "text/x-python",
   "name": "python",
   "nbconvert_exporter": "python",
   "pygments_lexer": "ipython3",
   "version": "3.11.5"
  }
 },
 "nbformat": 4,
 "nbformat_minor": 2
}
