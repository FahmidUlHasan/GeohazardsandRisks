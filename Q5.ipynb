{
 "cells": [
  {
   "cell_type": "code",
   "execution_count": 49,
   "metadata": {},
   "outputs": [],
   "source": [
    "#Packages\n",
    "import math as ma\n",
    "import numpy as np\n",
    "import pandas as pd\n",
    "import operator"
   ]
  },
  {
   "cell_type": "code",
   "execution_count": 50,
   "metadata": {},
   "outputs": [],
   "source": [
    "MC=[[7] , [1,4], [1,5], [2,4,6], [2,5,6], [3,4,6], [3,5,6]]\n",
    "pfZ_FOSM=[0.01992417277867474, 0.015493000489565988, 0.028250825674666726, 0.014705955437358123, 0.023655379696662756, 0.022851931654395814, 0.0226904267029535]\n",
    "pfZ_FORM=[3.348641976930189e-06, 2.1889894341597937e-09, 7.230836408422814e-05, 2.2685564537994196e-10, 5.680392882734253e-06, 5.0258264511215955e-06, 1.2849330184416807e-05]\n",
    "pfZ_MC=[4.22e-6, 0, 7.84e-5, 0, 6.28e-6, 5.78e-6, 1.34e-5]\n"
   ]
  },
  {
   "cell_type": "code",
   "execution_count": 51,
   "metadata": {},
   "outputs": [
    {
     "data": {
      "text/plain": [
       "48"
      ]
     },
     "execution_count": 51,
     "metadata": {},
     "output_type": "execute_result"
    }
   ],
   "source": [
    "def product(l):\n",
    "    p=1\n",
    "    for i in l:\n",
    "        p*=i\n",
    "    return p\n",
    "product([2,4,6])"
   ]
  },
  {
   "cell_type": "code",
   "execution_count": 52,
   "metadata": {},
   "outputs": [
    {
     "data": {
      "text/plain": [
       "0.0234747148215132"
      ]
     },
     "execution_count": 52,
     "metadata": {},
     "output_type": "execute_result"
    }
   ],
   "source": [
    "pfC_FOSM=[]\n",
    "for c in MC:\n",
    "    p=1\n",
    "    for i in c:\n",
    "        p*=pfZ_FOSM[i-1]\n",
    "    pfC_FOSM.append(1-p)\n",
    "1-product(pfC_FOSM)"
   ]
  },
  {
   "cell_type": "code",
   "execution_count": 53,
   "metadata": {},
   "outputs": [
    {
     "data": {
      "text/plain": [
       "1.2849349208643446e-05"
      ]
     },
     "execution_count": 53,
     "metadata": {},
     "output_type": "execute_result"
    }
   ],
   "source": [
    "pfC_FORM=[]\n",
    "for c in MC:\n",
    "    p=1\n",
    "    for i in c:\n",
    "        p*=pfZ_FORM[i-1]\n",
    "    pfC_FORM.append(1-p)\n",
    "1-product(pfC_FORM)"
   ]
  },
  {
   "cell_type": "code",
   "execution_count": 54,
   "metadata": {},
   "outputs": [
    {
     "data": {
      "text/plain": [
       "1.3400026504184481e-05"
      ]
     },
     "execution_count": 54,
     "metadata": {},
     "output_type": "execute_result"
    }
   ],
   "source": [
    "pfC_MC=[]\n",
    "for c in MC:\n",
    "    p=1\n",
    "    for i in c:\n",
    "        p*=pfZ_MC[i-1]\n",
    "    pfC_MC.append(1-p)\n",
    "1-product(pfC_MC)"
   ]
  }
 ],
 "metadata": {
  "language_info": {
   "name": "python"
  }
 },
 "nbformat": 4,
 "nbformat_minor": 2
}
